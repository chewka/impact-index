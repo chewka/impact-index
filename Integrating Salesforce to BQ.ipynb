{
 "cells": [
  {
   "cell_type": "code",
   "execution_count": 4,
   "metadata": {},
   "outputs": [
    {
     "data": {
      "text/plain": [
       "'/Users/dhyanna/socos/impact-index/keys/Keys for Big Query Storage Admin - PEII.json'"
      ]
     },
     "execution_count": 4,
     "metadata": {},
     "output_type": "execute_result"
    }
   ],
   "source": [
    "import pandas as pd\n",
    "import numpy as np\n",
    "import os\n",
    "from pathlib import Path\n",
    "\n",
    "PROJ_ROOT = Path().resolve().parent\n",
    "KEYS_DIR = PROJ_ROOT / 'keys' \n",
    "keys = KEYS_DIR / 'Keys for Big Query Storage Admin - PEII.json'"
   ]
  },
  {
   "cell_type": "code",
   "execution_count": 5,
   "metadata": {},
   "outputs": [],
   "source": [
    "os.environ['GOOGLE_APPLICATION_CREDENTIALS'] = str(keys)"
   ]
  },
  {
   "cell_type": "code",
   "execution_count": 10,
   "metadata": {},
   "outputs": [],
   "source": [
    "from google.cloud import bigquery"
   ]
  },
  {
   "cell_type": "code",
   "execution_count": 29,
   "metadata": {
    "scrolled": true
   },
   "outputs": [
    {
     "name": "stdout",
     "output_type": "stream",
     "text": [
      "Created table peii-242723.salesforce_data.startout\n"
     ]
    }
   ],
   "source": [
    "# TODO(developer): Construct a BigQuery client object.\n",
    "client = bigquery.Client()\n",
    "dataset_id = 'salesforce_data'\n",
    "dataset_ref = client.dataset(dataset_id, project=project)\n",
    "\n",
    "#TODO(developer): Set table_id to the ID of the table to create\n",
    "table_id = \"peii-242723.salesforce_data.startout\"\n",
    "        \n",
    "schema = [\n",
    "    bigquery.SchemaField(\"ID\", \"STRING\"),\n",
    "    bigquery.SchemaField(\"Name\", \"STRING\"),\n",
    "    bigquery.SchemaField(\"Mailing_city\", \"STRING\"),\n",
    "    bigquery.SchemaField(\"Gender\", \"STRING\"),\n",
    "    bigquery.SchemaField(\"LGBT_id\", \"STRING\"),\n",
    "    bigquery.SchemaField(\"Race_ethnicity\", \"STRING\"),\n",
    "    bigquery.SchemaField(\"Company_name\", \"STRING\"),\n",
    "    bigquery.SchemaField(\"Company_id\", \"STRING\"),\n",
    "    bigquery.SchemaField(\"Attributes\", \"STRING\")\n",
    "]\n",
    "\n",
    "table = bigquery.Table(table_id, schema=schema)\n",
    "table = client.create_table(table)  # API request\n",
    "\n",
    "print(\n",
    "    \"Created table {}.{}.{}\".format(table.project, table.dataset_id, table.table_id)\n",
    ")"
   ]
  },
  {
   "cell_type": "code",
   "execution_count": 30,
   "metadata": {},
   "outputs": [],
   "source": [
    "from google.cloud import storage"
   ]
  },
  {
   "cell_type": "code",
   "execution_count": 17,
   "metadata": {},
   "outputs": [],
   "source": [
    "project = 'peii-242723'\n",
    "\n",
    "# Setup Storage vars\n",
    "storage_client = storage.Client(project=project)\n",
    "bucket = storage_client.get_bucket('impact-index-shared-resources')"
   ]
  },
  {
   "cell_type": "code",
   "execution_count": 31,
   "metadata": {},
   "outputs": [],
   "source": [
    "import cgi\n",
    "import requests\n",
    "import json\n",
    "from simple_salesforce import Salesforce\n"
   ]
  },
  {
   "cell_type": "code",
   "execution_count": 32,
   "metadata": {},
   "outputs": [],
   "source": [
    "sf = Salesforce(username='info@startout.org', password='6MfQ3fYZcx', security_token='GdC0WA2iKWRLD7fP53Sy8dN3')"
   ]
  },
  {
   "cell_type": "code",
   "execution_count": 33,
   "metadata": {},
   "outputs": [],
   "source": [
    "query = 'SELECT Id, \\\n",
    "         Name, \\\n",
    "         Gender__c, \\\n",
    "         LGBTQ_Identification__c, \\\n",
    "         Racial_Ethnic_Identification__c, \\\n",
    "         Member_Company__c, \\\n",
    "         Name_of_Member_Company__c, \\\n",
    "         MailingCity \\\n",
    "         FROM Contact'"
   ]
  },
  {
   "cell_type": "code",
   "execution_count": 34,
   "metadata": {},
   "outputs": [],
   "source": [
    "bulk_call = sf.bulk.Contact.query(query)\n",
    "sf_df = pd.DataFrame(bulk_call)"
   ]
  },
  {
   "cell_type": "code",
   "execution_count": 56,
   "metadata": {},
   "outputs": [],
   "source": [
    "df = sf_df[sf_df.columns[0:8]]"
   ]
  },
  {
   "cell_type": "code",
   "execution_count": 60,
   "metadata": {},
   "outputs": [
    {
     "data": {
      "text/plain": [
       "<google.cloud.bigquery.job.LoadJob at 0x1153d0c18>"
      ]
     },
     "execution_count": 60,
     "metadata": {},
     "output_type": "execute_result"
    }
   ],
   "source": [
    "job_config = bigquery.LoadJobConfig(schema=[\n",
    "    bigquery.SchemaField(\"Id\", \"STRING\"),\n",
    "    bigquery.SchemaField(\"Name\", \"STRING\"),\n",
    "    bigquery.SchemaField(\"MailingCity\", \"STRING\"),\n",
    "    bigquery.SchemaField(\"Gender__c\", \"STRING\"),\n",
    "    bigquery.SchemaField(\"LGBTQ_Identification__c\", \"STRING\"),\n",
    "    bigquery.SchemaField(\"Racial_Ethnic_Identification__c\", \"STRING\"),\n",
    "    bigquery.SchemaField(\"Name_of_Member_Company__c\", \"STRING\"),\n",
    "    bigquery.SchemaField(\"Member_Company__c\", \"STRING\"),\n",
    "])\n",
    "\n",
    "job = client.load_table_from_dataframe(\n",
    "    df, table_id, job_config=job_config\n",
    ")\n",
    "\n",
    "# Wait for the load job to complete.\n",
    "job.result()"
   ]
  }
 ],
 "metadata": {
  "kernelspec": {
   "display_name": "Python 3",
   "language": "python",
   "name": "python3"
  },
  "language_info": {
   "codemirror_mode": {
    "name": "ipython",
    "version": 3
   },
   "file_extension": ".py",
   "mimetype": "text/x-python",
   "name": "python",
   "nbconvert_exporter": "python",
   "pygments_lexer": "ipython3",
   "version": "3.7.3"
  }
 },
 "nbformat": 4,
 "nbformat_minor": 2
}
